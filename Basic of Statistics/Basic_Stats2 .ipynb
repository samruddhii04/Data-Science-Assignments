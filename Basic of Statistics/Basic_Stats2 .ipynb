{
  "cells": [
    {
      "cell_type": "code",
      "execution_count": 1,
      "id": "3f3197ed-d38a-4cef-b8d9-b74b4c4cb367",
      "metadata": {
        "id": "3f3197ed-d38a-4cef-b8d9-b74b4c4cb367"
      },
      "outputs": [],
      "source": [
        "#Import Libraries\n",
        "import numpy as np\n",
        "import scipy.stats as stats"
      ]
    },
    {
      "cell_type": "markdown",
      "id": "67c43d7d-bb8b-493f-9063-b608cb60c817",
      "metadata": {
        "id": "67c43d7d-bb8b-493f-9063-b608cb60c817"
      },
      "source": [
        "**Build 99% Confidence Interval Using Sample Standard Deviation**"
      ]
    },
    {
      "cell_type": "code",
      "execution_count": 2,
      "id": "36d6d7fa-164c-46bf-a37f-5a17bbccd673",
      "metadata": {
        "id": "36d6d7fa-164c-46bf-a37f-5a17bbccd673"
      },
      "outputs": [],
      "source": [
        "\n",
        "#Given dataset\n",
        "data = [1.13, 1.55, 1.43, 0.92, 1.25, 1.36, 1.32, 0.85, 1.07, 1.48, 1.20, 1.33, 1.18, 1.22, 1.29]"
      ]
    },
    {
      "cell_type": "code",
      "execution_count": 3,
      "id": "7bb5502e-15c1-492d-807f-0153e8169cd0",
      "metadata": {
        "colab": {
          "base_uri": "https://localhost:8080/"
        },
        "id": "7bb5502e-15c1-492d-807f-0153e8169cd0",
        "outputId": "78369f1d-f9c5-4405-a6e3-8b702fb891cd"
      },
      "outputs": [
        {
          "output_type": "execute_result",
          "data": {
            "text/plain": [
              "[1.13,\n",
              " 1.55,\n",
              " 1.43,\n",
              " 0.92,\n",
              " 1.25,\n",
              " 1.36,\n",
              " 1.32,\n",
              " 0.85,\n",
              " 1.07,\n",
              " 1.48,\n",
              " 1.2,\n",
              " 1.33,\n",
              " 1.18,\n",
              " 1.22,\n",
              " 1.29]"
            ]
          },
          "metadata": {},
          "execution_count": 3
        }
      ],
      "source": [
        "data"
      ]
    },
    {
      "cell_type": "code",
      "execution_count": 4,
      "id": "35ec9584-8fde-44cb-a288-0fa59bfca304",
      "metadata": {
        "id": "35ec9584-8fde-44cb-a288-0fa59bfca304"
      },
      "outputs": [],
      "source": [
        "# Sample mean\n",
        "mean = np.mean(data)"
      ]
    },
    {
      "cell_type": "code",
      "execution_count": 5,
      "id": "a570392e-055a-451d-b87c-24df7b8d2477",
      "metadata": {
        "colab": {
          "base_uri": "https://localhost:8080/"
        },
        "id": "a570392e-055a-451d-b87c-24df7b8d2477",
        "outputId": "f5b70c36-78c5-4da7-ea46-ead145340695"
      },
      "outputs": [
        {
          "output_type": "execute_result",
          "data": {
            "text/plain": [
              "1.2386666666666666"
            ]
          },
          "metadata": {},
          "execution_count": 5
        }
      ],
      "source": [
        "mean"
      ]
    },
    {
      "cell_type": "code",
      "execution_count": 6,
      "id": "0d1fdad5-9162-4215-9a4a-f68cd2fda0f5",
      "metadata": {
        "id": "0d1fdad5-9162-4215-9a4a-f68cd2fda0f5"
      },
      "outputs": [],
      "source": [
        "# Sample standard deviation\n",
        "std_dev = np.std(data, ddof=1)"
      ]
    },
    {
      "cell_type": "code",
      "execution_count": 7,
      "id": "07541e44-9531-402d-a697-eecd55351788",
      "metadata": {
        "colab": {
          "base_uri": "https://localhost:8080/"
        },
        "id": "07541e44-9531-402d-a697-eecd55351788",
        "outputId": "07e4cfbf-4af1-411f-86e9-031e4f9363de"
      },
      "outputs": [
        {
          "output_type": "execute_result",
          "data": {
            "text/plain": [
              "0.19316412956959936"
            ]
          },
          "metadata": {},
          "execution_count": 7
        }
      ],
      "source": [
        "std_dev"
      ]
    },
    {
      "cell_type": "code",
      "execution_count": 8,
      "id": "2be716f2-41f1-47fd-bce4-c26798402e4f",
      "metadata": {
        "id": "2be716f2-41f1-47fd-bce4-c26798402e4f"
      },
      "outputs": [],
      "source": [
        "# Sample size\n",
        "n = len(data)"
      ]
    },
    {
      "cell_type": "code",
      "execution_count": 9,
      "id": "be41b07c-2ea1-4df6-b853-3a896245afa4",
      "metadata": {
        "colab": {
          "base_uri": "https://localhost:8080/"
        },
        "id": "be41b07c-2ea1-4df6-b853-3a896245afa4",
        "outputId": "954ad1ee-f9b0-46d0-9c23-1d787f6d0b19"
      },
      "outputs": [
        {
          "output_type": "execute_result",
          "data": {
            "text/plain": [
              "15"
            ]
          },
          "metadata": {},
          "execution_count": 9
        }
      ],
      "source": [
        "n"
      ]
    },
    {
      "cell_type": "code",
      "execution_count": 10,
      "id": "4ab70ee6-0706-4642-a4ea-e944752d8a5c",
      "metadata": {
        "id": "4ab70ee6-0706-4642-a4ea-e944752d8a5c"
      },
      "outputs": [],
      "source": [
        "#Degree of freedom\n",
        "df = n - 1\n"
      ]
    },
    {
      "cell_type": "code",
      "execution_count": 11,
      "id": "5c4c3a2d-4a4d-469c-8a2d-298f77cf3072",
      "metadata": {
        "colab": {
          "base_uri": "https://localhost:8080/"
        },
        "id": "5c4c3a2d-4a4d-469c-8a2d-298f77cf3072",
        "outputId": "f9309127-51b0-4e58-b698-73b80cd043bc"
      },
      "outputs": [
        {
          "output_type": "execute_result",
          "data": {
            "text/plain": [
              "14"
            ]
          },
          "metadata": {},
          "execution_count": 11
        }
      ],
      "source": [
        "df"
      ]
    },
    {
      "cell_type": "code",
      "execution_count": 12,
      "id": "3ccbf34a-0d21-4f16-b5b0-55ece0f75d8d",
      "metadata": {
        "id": "3ccbf34a-0d21-4f16-b5b0-55ece0f75d8d"
      },
      "outputs": [],
      "source": [
        "# t- value\n",
        "confidence_level = 0.99\n",
        "t_value = stats.t.ppf((1 + confidence_level) / 2, df)\n"
      ]
    },
    {
      "cell_type": "code",
      "execution_count": 13,
      "id": "3dbcd4ab-0e52-4b56-8565-95b64bb6a28b",
      "metadata": {
        "colab": {
          "base_uri": "https://localhost:8080/"
        },
        "id": "3dbcd4ab-0e52-4b56-8565-95b64bb6a28b",
        "outputId": "75a7a785-10d6-4cfa-d79a-54a7b4117f83"
      },
      "outputs": [
        {
          "output_type": "execute_result",
          "data": {
            "text/plain": [
              "2.976842734370834"
            ]
          },
          "metadata": {},
          "execution_count": 13
        }
      ],
      "source": [
        "t_value"
      ]
    },
    {
      "cell_type": "code",
      "execution_count": 14,
      "id": "27215630-7824-4c82-a3db-be300a8186df",
      "metadata": {
        "colab": {
          "base_uri": "https://localhost:8080/"
        },
        "id": "27215630-7824-4c82-a3db-be300a8186df",
        "outputId": "7350c04f-6672-40c1-d6aa-3ec5e5714c5b"
      },
      "outputs": [
        {
          "output_type": "execute_result",
          "data": {
            "text/plain": [
              "0.14846932822817596"
            ]
          },
          "metadata": {},
          "execution_count": 14
        }
      ],
      "source": [
        "margin_of_error = t_value * (std_dev / np.sqrt(n))\n",
        "margin_of_error"
      ]
    },
    {
      "cell_type": "code",
      "execution_count": 15,
      "id": "19d69790-8ab0-4f5a-b12a-b22e74ff378f",
      "metadata": {
        "id": "19d69790-8ab0-4f5a-b12a-b22e74ff378f"
      },
      "outputs": [],
      "source": [
        "#confidence interval\n",
        "lower = mean - margin_of_error\n",
        "upper = mean + margin_of_error"
      ]
    },
    {
      "cell_type": "code",
      "execution_count": 16,
      "id": "1a38d709-c8c1-4df0-800e-0a36b819f737",
      "metadata": {
        "colab": {
          "base_uri": "https://localhost:8080/"
        },
        "id": "1a38d709-c8c1-4df0-800e-0a36b819f737",
        "outputId": "7d31b67b-edb6-403d-a072-ce6937caace9"
      },
      "outputs": [
        {
          "output_type": "execute_result",
          "data": {
            "text/plain": [
              "1.0901973384384906"
            ]
          },
          "metadata": {},
          "execution_count": 16
        }
      ],
      "source": [
        "lower"
      ]
    },
    {
      "cell_type": "code",
      "execution_count": 17,
      "id": "56f20f03-4fbf-44e2-b3f9-80bddc033596",
      "metadata": {
        "colab": {
          "base_uri": "https://localhost:8080/"
        },
        "id": "56f20f03-4fbf-44e2-b3f9-80bddc033596",
        "outputId": "fab2563c-36e9-4579-96c5-a1f9fe749979"
      },
      "outputs": [
        {
          "output_type": "execute_result",
          "data": {
            "text/plain": [
              "1.3871359948948425"
            ]
          },
          "metadata": {},
          "execution_count": 17
        }
      ],
      "source": [
        "upper"
      ]
    },
    {
      "cell_type": "code",
      "execution_count": 18,
      "id": "d0a1a5de-8b63-4e72-b331-7538d63b38ca",
      "metadata": {
        "id": "d0a1a5de-8b63-4e72-b331-7538d63b38ca"
      },
      "outputs": [],
      "source": [
        "#at the 99% confidence interval using the sample standard deviation is approximately\n",
        "#lower=1.09\n",
        "#upper=1.39\n",
        "#confidence interval[1.08-1.39]"
      ]
    },
    {
      "cell_type": "markdown",
      "id": "08569245-1a51-40f2-9796-1ddc38b3c5d6",
      "metadata": {
        "id": "08569245-1a51-40f2-9796-1ddc38b3c5d6"
      },
      "source": [
        "**Build 99% Confidence Interval Using Known Population Standard Deviation**"
      ]
    },
    {
      "cell_type": "code",
      "execution_count": 19,
      "id": "a0cd15ae-7d70-4a1e-a3c5-5d4a17b7ca8f",
      "metadata": {
        "colab": {
          "base_uri": "https://localhost:8080/"
        },
        "id": "a0cd15ae-7d70-4a1e-a3c5-5d4a17b7ca8f",
        "outputId": "da20b544-8958-4a12-b9ae-394c43b54635"
      },
      "outputs": [
        {
          "output_type": "execute_result",
          "data": {
            "text/plain": [
              "[1.13,\n",
              " 1.55,\n",
              " 1.43,\n",
              " 0.92,\n",
              " 1.25,\n",
              " 1.36,\n",
              " 1.32,\n",
              " 0.85,\n",
              " 1.07,\n",
              " 1.48,\n",
              " 1.2,\n",
              " 1.33,\n",
              " 1.18,\n",
              " 1.22,\n",
              " 1.29]"
            ]
          },
          "metadata": {},
          "execution_count": 19
        }
      ],
      "source": [
        "data"
      ]
    },
    {
      "cell_type": "code",
      "execution_count": 20,
      "id": "39b6a093-18a0-46e9-8570-c5b8522ef5b8",
      "metadata": {
        "id": "39b6a093-18a0-46e9-8570-c5b8522ef5b8"
      },
      "outputs": [],
      "source": [
        "mean = np.mean(data)"
      ]
    },
    {
      "cell_type": "code",
      "execution_count": 21,
      "id": "71afc77e-9626-489d-aca8-31c91c4e8a4e",
      "metadata": {
        "colab": {
          "base_uri": "https://localhost:8080/"
        },
        "id": "71afc77e-9626-489d-aca8-31c91c4e8a4e",
        "outputId": "6d5afe83-4736-4b8a-8a29-28ad413aa27a"
      },
      "outputs": [
        {
          "output_type": "execute_result",
          "data": {
            "text/plain": [
              "1.2386666666666666"
            ]
          },
          "metadata": {},
          "execution_count": 21
        }
      ],
      "source": [
        "mean"
      ]
    },
    {
      "cell_type": "code",
      "execution_count": 22,
      "id": "2ee8de11-6ab1-41ed-9705-d60df71e2046",
      "metadata": {
        "id": "2ee8de11-6ab1-41ed-9705-d60df71e2046"
      },
      "outputs": [],
      "source": [
        "std_dev = np.std(data, ddof=1)"
      ]
    },
    {
      "cell_type": "code",
      "execution_count": 23,
      "id": "7b815085-f3ba-417b-af0b-047751e5d279",
      "metadata": {
        "colab": {
          "base_uri": "https://localhost:8080/"
        },
        "id": "7b815085-f3ba-417b-af0b-047751e5d279",
        "outputId": "233742a7-1983-41fe-fa26-98af4783c249"
      },
      "outputs": [
        {
          "output_type": "execute_result",
          "data": {
            "text/plain": [
              "0.19316412956959936"
            ]
          },
          "metadata": {},
          "execution_count": 23
        }
      ],
      "source": [
        "std_dev"
      ]
    },
    {
      "cell_type": "code",
      "execution_count": 24,
      "id": "516ffd64-c837-4847-9de5-4093270efab4",
      "metadata": {
        "id": "516ffd64-c837-4847-9de5-4093270efab4"
      },
      "outputs": [],
      "source": [
        "n = len(data)"
      ]
    },
    {
      "cell_type": "code",
      "execution_count": 25,
      "id": "f280bd52-a201-4a4d-b8bd-1a0c6bd64afa",
      "metadata": {
        "colab": {
          "base_uri": "https://localhost:8080/"
        },
        "id": "f280bd52-a201-4a4d-b8bd-1a0c6bd64afa",
        "outputId": "7369bd01-31b8-4220-a68d-a86757491469"
      },
      "outputs": [
        {
          "output_type": "execute_result",
          "data": {
            "text/plain": [
              "15"
            ]
          },
          "metadata": {},
          "execution_count": 25
        }
      ],
      "source": [
        "n"
      ]
    },
    {
      "cell_type": "code",
      "execution_count": 26,
      "id": "5d2c02bd-ae45-4a64-bc0c-751022ac9146",
      "metadata": {
        "colab": {
          "base_uri": "https://localhost:8080/"
        },
        "id": "5d2c02bd-ae45-4a64-bc0c-751022ac9146",
        "outputId": "05e1994b-ff6d-45b3-a188-c996cdca0a36"
      },
      "outputs": [
        {
          "output_type": "execute_result",
          "data": {
            "text/plain": [
              "[1.13,\n",
              " 1.55,\n",
              " 1.43,\n",
              " 0.92,\n",
              " 1.25,\n",
              " 1.36,\n",
              " 1.32,\n",
              " 0.85,\n",
              " 1.07,\n",
              " 1.48,\n",
              " 1.2,\n",
              " 1.33,\n",
              " 1.18,\n",
              " 1.22,\n",
              " 1.29]"
            ]
          },
          "metadata": {},
          "execution_count": 26
        }
      ],
      "source": [
        "data"
      ]
    },
    {
      "cell_type": "code",
      "execution_count": 27,
      "id": "9acbf5bf-0cf5-4ba5-a794-70a7da5636f8",
      "metadata": {
        "id": "9acbf5bf-0cf5-4ba5-a794-70a7da5636f8"
      },
      "outputs": [],
      "source": [
        "df = n - 1"
      ]
    },
    {
      "cell_type": "code",
      "execution_count": 28,
      "id": "8806a49d-42bc-41a7-949c-44913b6b3f56",
      "metadata": {
        "colab": {
          "base_uri": "https://localhost:8080/"
        },
        "id": "8806a49d-42bc-41a7-949c-44913b6b3f56",
        "outputId": "bb8714b8-3940-4523-f84e-ff8befdcb81d"
      },
      "outputs": [
        {
          "output_type": "execute_result",
          "data": {
            "text/plain": [
              "14"
            ]
          },
          "metadata": {},
          "execution_count": 28
        }
      ],
      "source": [
        "df"
      ]
    },
    {
      "cell_type": "code",
      "execution_count": 29,
      "id": "b59a7de6-970d-425c-b3d0-3026cc2873d9",
      "metadata": {
        "id": "b59a7de6-970d-425c-b3d0-3026cc2873d9"
      },
      "outputs": [],
      "source": [
        "confidence_level = 0.99\n",
        "t_value = stats.t.ppf((1 + confidence_level) / 2, df)"
      ]
    },
    {
      "cell_type": "code",
      "execution_count": 30,
      "id": "be435511-2bf0-4e0f-a067-f3661b47eea9",
      "metadata": {
        "colab": {
          "base_uri": "https://localhost:8080/"
        },
        "id": "be435511-2bf0-4e0f-a067-f3661b47eea9",
        "outputId": "4a792bca-54d1-478f-d155-cddb10b8e637"
      },
      "outputs": [
        {
          "output_type": "execute_result",
          "data": {
            "text/plain": [
              "2.976842734370834"
            ]
          },
          "metadata": {},
          "execution_count": 30
        }
      ],
      "source": [
        "t_value"
      ]
    },
    {
      "cell_type": "code",
      "execution_count": 31,
      "id": "021bffc5-eb29-4179-89d9-20b48fcdab9e",
      "metadata": {
        "colab": {
          "base_uri": "https://localhost:8080/"
        },
        "id": "021bffc5-eb29-4179-89d9-20b48fcdab9e",
        "outputId": "7a51cbbc-6071-4bcf-ad76-106e2a284303"
      },
      "outputs": [
        {
          "output_type": "execute_result",
          "data": {
            "text/plain": [
              "0.14846932822817596"
            ]
          },
          "metadata": {},
          "execution_count": 31
        }
      ],
      "source": [
        "margin_of_error = t_value * (std_dev / np.sqrt(n))\n",
        "margin_of_error"
      ]
    },
    {
      "cell_type": "code",
      "execution_count": 32,
      "id": "9e56730d-3a43-4581-9c00-a01f576037a4",
      "metadata": {
        "id": "9e56730d-3a43-4581-9c00-a01f576037a4"
      },
      "outputs": [],
      "source": [
        "#confidence interval\n",
        "lower = mean - margin_of_error\n",
        "upper = mean + margin_of_error"
      ]
    },
    {
      "cell_type": "code",
      "execution_count": 33,
      "id": "adda9422-c02d-4e95-bda2-2deffecba3ca",
      "metadata": {
        "colab": {
          "base_uri": "https://localhost:8080/"
        },
        "id": "adda9422-c02d-4e95-bda2-2deffecba3ca",
        "outputId": "c34cdef1-0ac9-400c-f307-4decc81e21a8"
      },
      "outputs": [
        {
          "output_type": "execute_result",
          "data": {
            "text/plain": [
              "1.0901973384384906"
            ]
          },
          "metadata": {},
          "execution_count": 33
        }
      ],
      "source": [
        "lower"
      ]
    },
    {
      "cell_type": "code",
      "execution_count": 34,
      "id": "68a6c8d2-cd0d-41c6-81ee-9e711ba0711c",
      "metadata": {
        "colab": {
          "base_uri": "https://localhost:8080/"
        },
        "id": "68a6c8d2-cd0d-41c6-81ee-9e711ba0711c",
        "outputId": "bb86ddf0-13a9-43d4-c039-8b2e81552a7b"
      },
      "outputs": [
        {
          "output_type": "execute_result",
          "data": {
            "text/plain": [
              "1.3871359948948425"
            ]
          },
          "metadata": {},
          "execution_count": 34
        }
      ],
      "source": [
        "upper"
      ]
    },
    {
      "cell_type": "code",
      "execution_count": 34,
      "id": "fc8728b2-1a35-4540-b670-a84ea71272db",
      "metadata": {
        "id": "fc8728b2-1a35-4540-b670-a84ea71272db"
      },
      "outputs": [],
      "source": []
    }
  ],
  "metadata": {
    "kernelspec": {
      "display_name": "Python 3 (ipykernel)",
      "language": "python",
      "name": "python3"
    },
    "language_info": {
      "codemirror_mode": {
        "name": "ipython",
        "version": 3
      },
      "file_extension": ".py",
      "mimetype": "text/x-python",
      "name": "python",
      "nbconvert_exporter": "python",
      "pygments_lexer": "ipython3",
      "version": "3.11.7"
    },
    "colab": {
      "provenance": []
    }
  },
  "nbformat": 4,
  "nbformat_minor": 5
}