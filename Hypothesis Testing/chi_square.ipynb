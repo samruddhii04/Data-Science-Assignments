{
 "cells": [
  {
   "cell_type": "code",
   "execution_count": 58,
   "id": "e14454fd-db18-43b2-a67d-0bae77cf0f9e",
   "metadata": {},
   "outputs": [],
   "source": [
    "# Q1) Chi-Square test : Association between Device Type and Customer Satisfaction\n",
    "\n",
    "import numpy as np\n",
    "from scipy.stats import chi2_contingency #using this for chisquare\n",
    "\n"
   ]
  },
  {
   "cell_type": "code",
   "execution_count": 64,
   "id": "1ed503ec-eb3d-4dfe-a405-aed3227583ef",
   "metadata": {},
   "outputs": [],
   "source": [
    "# Given data as per the prblem\n",
    "observed = np.array([\n",
    "    [50, 70],\n",
    "    [80, 100],\n",
    "    [60, 90],\n",
    "    [30, 50],\n",
    "    [20, 50]\n",
    "])\n",
    "\n"
   ]
  },
  {
   "cell_type": "code",
   "execution_count": null,
   "id": "78f57a8b-60be-4ae0-8254-4bacaeea3561",
   "metadata": {},
   "outputs": [],
   "source": [
    "# we are Calculating expected frequencies using the chi-square test of independence\n",
    "chisquare, PVALUE, dof, expected = chi2_contingency(observed)\n",
    "print(\"P-value:\", PVALUE.round(4)) #round is used for displaying the value after decimal\n",
    "\n",
    "# 1. State the Hypotheses(PVALUE):\n",
    "# Hypotheses: \n",
    "# Reject the null hypothesis. There is a significant association between satisfaction and smart thermostat/smart light usage.\n",
    "# Fail to reject the null hypothesis. There is no significant association between satisfaction and smart thermostat/smart light usage.\n",
    "\n",
    "# 2. Computing the Chi-Square Statistic:\n",
    "print(\"Chi-Square Statistic:\", chisquare.round(4))\n",
    "\n",
    "# 3. Determining the Critical Value:\n",
    "alpha = 0.05 #given in probelm\n",
    "critical_value = chi2_contingency(observed)[1] # here chi2_contingency returns a tuple, so we're selecting the p-value from it\n",
    "degrees_of_freedom = (observed.shape[0] - 1) * (observed.shape[1] - 1)\n",
    "print(\"Degrees of Freedom:\", degrees_of_freedom)\n",
    "print(\"Critical Value:\", critical_value.round(4))\n",
    "\n",
    "# 4. Make a Decision:\n",
    "chi2=0.05\n",
    "if chi2 > critical_value:\n",
    "    print(\"Reject the null hypothesis. There is a significant association between satisfaction and smart thermostat/smart light usage.\")\n",
    "else:\n",
    "    print(\"Fail to reject the null hypothesis. There is no significant association between satisfaction and smart thermostat/smart light usage.\")"
   ]
  }
 ],
 "metadata": {
  "kernelspec": {
   "display_name": "Python 3 (ipykernel)",
   "language": "python",
   "name": "python3"
  },
  "language_info": {
   "codemirror_mode": {
    "name": "ipython",
    "version": 3
   },
   "file_extension": ".py",
   "mimetype": "text/x-python",
   "name": "python",
   "nbconvert_exporter": "python",
   "pygments_lexer": "ipython3",
   "version": "3.12.4"
  }
 },
 "nbformat": 4,
 "nbformat_minor": 5
}
