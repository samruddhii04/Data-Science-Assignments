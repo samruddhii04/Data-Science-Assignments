{
 "cells": [
  {
   "cell_type": "code",
   "execution_count": null,
   "id": "13e4066b-1cd8-49e2-897f-2dad4621f2d9",
   "metadata": {},
   "outputs": [],
   "source": [
    "import pandas as pd\n",
    "import numpy as np\n",
    "import matplotlib.pyplot as plt\n",
    "from yellowbrick.classifier import ConfusionMatrix\n",
    "from sklearn import model_selection\n",
    "from sklearn.metrics import classification_report\n",
    "from sklearn.metrics import confusion_matrix\n",
    "from sklearn.metrics import accuracy_score\n",
    "from sklearn.tree import DecisionTreeClassifier"
   ]
  },
  {
   "cell_type": "code",
   "execution_count": null,
   "id": "bf9ea74d-9812-4f76-a5fe-ba97e67d985e",
   "metadata": {},
   "outputs": [],
   "source": [
    "df=pd.read_csv(\"Alphabets_data.csv\")"
   ]
  },
  {
   "cell_type": "code",
   "execution_count": null,
   "id": "7d47fab3-a9b0-4793-aa0d-065f747bf0ad",
   "metadata": {},
   "outputs": [],
   "source": [
    "df"
   ]
  },
  {
   "cell_type": "code",
   "execution_count": null,
   "id": "769a964a-1c0e-4fbc-887d-7d253538902a",
   "metadata": {},
   "outputs": [],
   "source": [
    "df.head()"
   ]
  },
  {
   "cell_type": "code",
   "execution_count": null,
   "id": "de748977-92b3-45ac-93e4-a85dbd80fa74",
   "metadata": {},
   "outputs": [],
   "source": [
    "df.shape"
   ]
  },
  {
   "cell_type": "code",
   "execution_count": null,
   "id": "a4b68f11-b03d-444c-83b6-03688eedd67a",
   "metadata": {},
   "outputs": [],
   "source": [
    "df.isna().sum()"
   ]
  },
  {
   "cell_type": "code",
   "execution_count": null,
   "id": "69fac540-75bd-4d6e-917b-0b21b02aa9b7",
   "metadata": {},
   "outputs": [],
   "source": [
    "df.describe()"
   ]
  },
  {
   "cell_type": "code",
   "execution_count": null,
   "id": "e0e0197a-2c67-4e19-99cb-ce9ef2eda3ae",
   "metadata": {},
   "outputs": [],
   "source": [
    "df.info()"
   ]
  },
  {
   "cell_type": "code",
   "execution_count": null,
   "id": "748de9e4-6077-445e-8023-233b42a855e6",
   "metadata": {},
   "outputs": [],
   "source": [
    "df.groupby('letter').size()"
   ]
  },
  {
   "cell_type": "code",
   "execution_count": null,
   "id": "108848d8-f72d-4eb8-b356-ba82ff18f328",
   "metadata": {},
   "outputs": [],
   "source": [
    "df.hist()"
   ]
  },
  {
   "cell_type": "code",
   "execution_count": null,
   "id": "ba50aecf-dcc0-4871-a95c-a6ed6f01b09a",
   "metadata": {},
   "outputs": [],
   "source": [
    "array=df.values"
   ]
  },
  {
   "cell_type": "code",
   "execution_count": null,
   "id": "f0098f01-fa0a-49d3-b63f-8e420f8b33f0",
   "metadata": {},
   "outputs": [],
   "source": [
    "x=array[:,1:17]\n",
    "y=array[:,0]"
   ]
  },
  {
   "cell_type": "code",
   "execution_count": null,
   "id": "7fb25f1c-0c6f-43a8-90d2-866aaa155568",
   "metadata": {},
   "outputs": [],
   "source": [
    "print('X matrix dimensionality:', x.shape)\n",
    "print('Y vector dimensionality',y.shape)"
   ]
  },
  {
   "cell_type": "code",
   "execution_count": null,
   "id": "f6fd9c47-553b-46d4-bc8d-d5d6c0295f9c",
   "metadata": {},
   "outputs": [],
   "source": [
    "# spliting the data into traiing and testing data set\n",
    "x_train,x_validation,y_train,y_validation=model_selection.train_test_split(x, y, test_size=0.20,random_state=10, stratify=y)\n",
    "     "
   ]
  },
  {
   "cell_type": "code",
   "execution_count": null,
   "id": "1e521908-703a-44b9-9c87-e990a08c5b98",
   "metadata": {},
   "outputs": [],
   "source": [
    "print(\"X_train:\",x_train.shape)\n",
    "print(\"y_train:\",y_train.shape)\n",
    "print(\"x_validation:\",x_validation.shape)\n",
    "print(\"y_validation:\",y_validation.shape)\n"
   ]
  },
  {
   "cell_type": "code",
   "execution_count": null,
   "id": "0c7132b4-cc74-4a3c-aebe-75e0bdfee437",
   "metadata": {},
   "outputs": [],
   "source": [
    "dec_tree=DecisionTreeClassifier()"
   ]
  },
  {
   "cell_type": "code",
   "execution_count": null,
   "id": "721e36d0-fd05-4902-8eb6-feed9155ae98",
   "metadata": {},
   "outputs": [],
   "source": [
    "cm=ConfusionMatrix(dec_tree,classes=\"A,B,C,D,E,F,G,H,I,J,K,L,M,N,O,P,Q,R,S,T,U,V,W,X,Y,Z\".split(','))"
   ]
  },
  {
   "cell_type": "code",
   "execution_count": null,
   "id": "44bd56d0-05b6-4cb0-ac7d-173ee4527cdc",
   "metadata": {},
   "outputs": [],
   "source": [
    "# train the model using training sets\n",
    "cm.fit(x_train,y_train)\n",
    "cm.score(x_validation,y_validation)"
   ]
  },
  {
   "cell_type": "code",
   "execution_count": null,
   "id": "eb9afda1-a57f-47c6-8a28-908c7052926e",
   "metadata": {},
   "outputs": [],
   "source": [
    "# predict the responses for test dataset\n",
    "predictions=cm.predict(x_validation)"
   ]
  },
  {
   "cell_type": "code",
   "execution_count": null,
   "id": "04970d07-3fb3-453b-88ac-b6710ca426f7",
   "metadata": {},
   "outputs": [],
   "source": [
    "#acuracy of classification score\n",
    "print(\"accuracy:\", accuracy_score(y_validation,predictions))"
   ]
  },
  {
   "cell_type": "code",
   "execution_count": null,
   "id": "d33e3a0b-5fea-4f04-8fb9-df1f1d8d7568",
   "metadata": {},
   "outputs": [],
   "source": [
    "#compute confusion amtrix\n",
    "print(confusion_matrix(y_validation,predictions))"
   ]
  },
  {
   "cell_type": "code",
   "execution_count": null,
   "id": "34add44f-70c8-492e-9d66-f8aaa52a017d",
   "metadata": {},
   "outputs": [],
   "source": [
    "# test report showin the main classification metrics\n",
    "print(classification_report(y_validation,predictions,digits=5))"
   ]
  },
  {
   "cell_type": "code",
   "execution_count": null,
   "id": "2c50d5e4-c1f1-4341-9834-4eea6a19317d",
   "metadata": {},
   "outputs": [],
   "source": [
    "cm.poof()"
   ]
  },
  {
   "cell_type": "code",
   "execution_count": null,
   "id": "2f6645c0-49c8-451c-bc2a-f5c21595eb2e",
   "metadata": {},
   "outputs": [],
   "source": [
    "from sklearn.naive_bayes import GaussianNB"
   ]
  },
  {
   "cell_type": "markdown",
   "id": "ba379a6c-f3d0-4c98-b371-0d2c0349c60d",
   "metadata": {},
   "source": [
    "# GaussianNB"
   ]
  },
  {
   "cell_type": "code",
   "execution_count": null,
   "id": "be4a6b86-341d-47be-8f78-4245de3d68fe",
   "metadata": {},
   "outputs": [],
   "source": [
    "gaussianNB=GaussianNB()"
   ]
  },
  {
   "cell_type": "code",
   "execution_count": null,
   "id": "f56092ca-11b7-4284-ae59-3a4617b8e87b",
   "metadata": {},
   "outputs": [],
   "source": [
    "cm=ConfusionMatrix(gaussianNB, classes=\"A,B,C,D,E,F,G,H,I,J,K,L,M,N,O,P,Q,R,S,T,U,V,W,X,Y,Z\".split(','))"
   ]
  },
  {
   "cell_type": "code",
   "execution_count": null,
   "id": "13edad31-83d4-47ed-a1c6-6359a060ab45",
   "metadata": {},
   "outputs": [],
   "source": [
    "cm.fit(x_train,y_train)\n",
    "cm.score(x_validation,y_validation)"
   ]
  },
  {
   "cell_type": "code",
   "execution_count": null,
   "id": "88c80478-d2d8-41ec-9d69-7a84374e584f",
   "metadata": {},
   "outputs": [],
   "source": [
    "# predict the responses for test dataset\n",
    "predictions=cm.predict(x_validation)"
   ]
  },
  {
   "cell_type": "code",
   "execution_count": null,
   "id": "5763288b-313f-428e-8a17-70647eb27df9",
   "metadata": {},
   "outputs": [],
   "source": [
    "#accuracy classification score\n",
    "print(\"accuracy:\", accuracy_score(y_validation,predictions))"
   ]
  },
  {
   "cell_type": "code",
   "execution_count": null,
   "id": "cab8f3b1-a461-47fd-be68-bf372a187f18",
   "metadata": {},
   "outputs": [],
   "source": [
    "#compute confusion matrix\n",
    "print(confusion_matrix(y_validation,predictions))"
   ]
  },
  {
   "cell_type": "code",
   "execution_count": null,
   "id": "556b9a49-71e1-4775-9ec2-c3c68622e912",
   "metadata": {},
   "outputs": [],
   "source": [
    "# text report showin the main classifications metrics\n",
    "print(classification_report(y_validation,predictions,digits=5))"
   ]
  },
  {
   "cell_type": "code",
   "execution_count": null,
   "id": "dd1c5626-f956-4928-a1e0-f46b1983d4ca",
   "metadata": {},
   "outputs": [],
   "source": [
    "cm.poof()"
   ]
  },
  {
   "cell_type": "markdown",
   "id": "f2fe4779-c4d8-4283-9823-3269bf5e35df",
   "metadata": {},
   "source": [
    "# KNN classifier"
   ]
  },
  {
   "cell_type": "code",
   "execution_count": null,
   "id": "a22bc69c-54e8-44ea-9721-854c9808bbc1",
   "metadata": {},
   "outputs": [],
   "source": [
    "from sklearn.neighbors import KNeighborsClassifier\n"
   ]
  },
  {
   "cell_type": "code",
   "execution_count": null,
   "id": "1329b1f3-c417-4a67-829a-2ac47004924c",
   "metadata": {},
   "outputs": [],
   "source": [
    "knn = KNeighborsClassifier(n_neighbors=5, metric='manhattan', algorithm='auto', weights='distance', n_jobs=-1)\n"
   ]
  },
  {
   "cell_type": "code",
   "execution_count": null,
   "id": "f173c35c-f524-468a-b433-6e1bd141c2f7",
   "metadata": {},
   "outputs": [],
   "source": [
    "cm = ConfusionMatrix(knn, classes=\"A,B,C,D,E,F,G,H,I,J,K,L,M,N,O,P,Q,R,S,T,U,V,W,X,Y,Z\".split(','))\n"
   ]
  },
  {
   "cell_type": "code",
   "execution_count": null,
   "id": "ba1c91f9-76e6-44ef-9b39-89edc60bc55f",
   "metadata": {},
   "outputs": [],
   "source": [
    "# train the model using the trainin sets\n",
    "cm.fit(x_train,y_train)\n",
    "cm.score(x_validation,y_validation)"
   ]
  },
  {
   "cell_type": "code",
   "execution_count": null,
   "id": "94cee442-fb6d-46e7-a3a5-d8e3d0937611",
   "metadata": {},
   "outputs": [],
   "source": [
    "#predict the responses for test dataset\n",
    "predictions=cm.predict(x_validation)"
   ]
  },
  {
   "cell_type": "code",
   "execution_count": null,
   "id": "ba08d84f-9139-4903-bee6-6839580d4c60",
   "metadata": {},
   "outputs": [],
   "source": [
    "#accuracy classifications score\n",
    "print(\"Accuracy:\", accuracy_score(y_validation,predictions))"
   ]
  },
  {
   "cell_type": "code",
   "execution_count": null,
   "id": "46c7212c-1735-4a22-9a3b-8b0091f6c5ef",
   "metadata": {},
   "outputs": [],
   "source": [
    "#compute confusion matrix\n",
    "print(confusion_matrix(y_validation,predictions))"
   ]
  },
  {
   "cell_type": "code",
   "execution_count": null,
   "id": "ada9fd41-abe2-4cae-9795-d3eeaa386b42",
   "metadata": {},
   "outputs": [],
   "source": [
    "#text reporting showing the main classification matrics\n",
    "print(classification_report(y_validation,predictions,digits=5))"
   ]
  },
  {
   "cell_type": "code",
   "execution_count": null,
   "id": "a1f2fc1f-d5ed-41dc-99f5-74f537e71acb",
   "metadata": {},
   "outputs": [],
   "source": [
    "cm.poof()"
   ]
  },
  {
   "cell_type": "markdown",
   "id": "2eafdbfd-74a9-4775-86e3-a90a7ba7f3a1",
   "metadata": {},
   "source": [
    "# SVC\n"
   ]
  },
  {
   "cell_type": "code",
   "execution_count": null,
   "id": "95618115-aec1-434a-827a-ab73359b17d2",
   "metadata": {},
   "outputs": [],
   "source": [
    "from sklearn.svm import SVC"
   ]
  },
  {
   "cell_type": "code",
   "execution_count": null,
   "id": "73b4a28d-7f55-40d9-805e-d32b7691f9e6",
   "metadata": {},
   "outputs": [],
   "source": [
    "svc=SVC(kernel='rbf',gamma='auto',C=6)"
   ]
  },
  {
   "cell_type": "code",
   "execution_count": null,
   "id": "42bc5013-33ba-4097-b9a7-14a5fe924c47",
   "metadata": {},
   "outputs": [],
   "source": [
    "cm = ConfusionMatrix(svc, classes=\"A,B,C,D,E,F,G,H,I,J,K,L,M,N,O,P,Q,R,S,T,U,V,W,X,Y,Z\".split(','))\n"
   ]
  },
  {
   "cell_type": "code",
   "execution_count": null,
   "id": "78957831-6b84-44b1-b675-5a721b29ea79",
   "metadata": {},
   "outputs": [],
   "source": [
    "cm.fit(x_train,y_train)\n",
    "cm.score(x_validation,y_validation)"
   ]
  },
  {
   "cell_type": "code",
   "execution_count": null,
   "id": "96181cf9-0223-4602-b494-27d6ffa16522",
   "metadata": {},
   "outputs": [],
   "source": [
    "#predict the responses for the dataset\n",
    "predictions=cm.predict(x_validation)"
   ]
  },
  {
   "cell_type": "code",
   "execution_count": null,
   "id": "27875f2b-db51-44ea-a38f-a0fe57be103d",
   "metadata": {},
   "outputs": [],
   "source": [
    "#accuracy classification score\n",
    "print(\"Accuracy:\", accuracy_score(y_validation, predictions))"
   ]
  },
  {
   "cell_type": "code",
   "execution_count": null,
   "id": "acb68280-34cb-48fc-8631-d0b6f2c2cead",
   "metadata": {},
   "outputs": [],
   "source": [
    "#compute the confusion matrix\n",
    "print(confusion_matrix(y_validation,predictions))"
   ]
  },
  {
   "cell_type": "code",
   "execution_count": null,
   "id": "bd4deff4-ac84-40db-a8ca-50682dc31101",
   "metadata": {},
   "outputs": [],
   "source": [
    "# text report showing the main classification metrics\n",
    "print(classification_report(y_validation,predictions,digits=5))"
   ]
  },
  {
   "cell_type": "code",
   "execution_count": null,
   "id": "b148f223-47bd-449d-9de1-5457e7b6419b",
   "metadata": {},
   "outputs": [],
   "source": [
    "cm.poof()"
   ]
  },
  {
   "cell_type": "markdown",
   "id": "42d90c3f-6ae1-4fb2-b08e-afbce7098182",
   "metadata": {},
   "source": [
    "# ANN"
   ]
  },
  {
   "cell_type": "code",
   "execution_count": null,
   "id": "6d551c14-63d5-4862-aec2-f66b434a253e",
   "metadata": {},
   "outputs": [],
   "source": [
    "from sklearn.neural_network import MLPClassifier\n",
    "from sklearn import preprocessing\n",
    "from sklearn.preprocessing import StandardScaler"
   ]
  },
  {
   "cell_type": "code",
   "execution_count": null,
   "id": "56349e6e-ed25-411b-8a9e-4fc124d6b770",
   "metadata": {},
   "outputs": [],
   "source": [
    "scaler=StandardScaler()\n",
    "scaler.fit(x_train)"
   ]
  },
  {
   "cell_type": "code",
   "execution_count": null,
   "id": "1ab39615-0964-45f7-ae9f-ddd2455ea5ba",
   "metadata": {},
   "outputs": [],
   "source": [
    "StandardScaler()"
   ]
  },
  {
   "cell_type": "code",
   "execution_count": null,
   "id": "15668e67-fcea-433f-9e34-cd799038f194",
   "metadata": {},
   "outputs": [],
   "source": [
    "x_train=scaler.transform(x_train)\n",
    "x_validation=scaler.transform(x_validation)"
   ]
  },
  {
   "cell_type": "code",
   "execution_count": null,
   "id": "9a613b6c-c18b-4137-beb2-f96b801e9f40",
   "metadata": {},
   "outputs": [],
   "source": [
    "mlp=MLPClassifier(hidden_layer_sizes=(250, 300), max_iter=1000000, activation='logistic')\n"
   ]
  },
  {
   "cell_type": "code",
   "execution_count": null,
   "id": "a7f8d386-2813-403c-aa43-d0db323c52dc",
   "metadata": {},
   "outputs": [],
   "source": [
    "cm = ConfusionMatrix(mlp, classes=\"A,B,C,D,E,F,G,H,I,J,K,L,M,N,O,P,Q,R,S,T,U,V,W,X,Y,Z\".split(','))\n"
   ]
  },
  {
   "cell_type": "code",
   "execution_count": null,
   "id": "b56e3e31-7b58-4187-a5e0-5f964a47f2ee",
   "metadata": {},
   "outputs": [],
   "source": [
    "#train h model using the trainin sets\n",
    "cm.fit(x_train, y_train)\n",
    "cm.score(x_validation, y_validation)"
   ]
  },
  {
   "cell_type": "code",
   "execution_count": null,
   "id": "4d0a5242-d920-44fc-8969-572607aa8f56",
   "metadata": {},
   "outputs": [],
   "source": [
    "#accuracy confusion amtrix\n",
    "print(confusion_matrix(y_validation, predictions))"
   ]
  },
  {
   "cell_type": "code",
   "execution_count": null,
   "id": "ccace1c2-dc71-4fc7-a21f-2380996c5c63",
   "metadata": {},
   "outputs": [],
   "source": [
    "# text report showing the main classification metrics\n",
    "print(classification_report(y_validation,predictions,diits=5))"
   ]
  },
  {
   "cell_type": "code",
   "execution_count": null,
   "id": "0de0365b-7387-495e-8ed9-ee469e2d29e4",
   "metadata": {},
   "outputs": [],
   "source": [
    "cm.poof()"
   ]
  }
 ],
 "metadata": {
  "kernelspec": {
   "display_name": "Python 3 (ipykernel)",
   "language": "python",
   "name": "python3"
  },
  "language_info": {
   "codemirror_mode": {
    "name": "ipython",
    "version": 3
   },
   "file_extension": ".py",
   "mimetype": "text/x-python",
   "name": "python",
   "nbconvert_exporter": "python",
   "pygments_lexer": "ipython3",
   "version": "3.12.4"
  }
 },
 "nbformat": 4,
 "nbformat_minor": 5
}
